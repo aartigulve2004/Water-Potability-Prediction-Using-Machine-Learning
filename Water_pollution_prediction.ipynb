{
  "nbformat": 4,
  "nbformat_minor": 0,
  "metadata": {
    "colab": {
      "provenance": []
    },
    "kernelspec": {
      "name": "python3",
      "display_name": "Python 3"
    },
    "language_info": {
      "name": "python"
    }
  },
  "cells": [
    {
      "cell_type": "code",
      "execution_count": 4,
      "metadata": {
        "colab": {
          "base_uri": "https://localhost:8080/"
        },
        "id": "ZomO_du4_nNp",
        "outputId": "aecfbec2-8ec4-4260-b07e-2c94ff8afa58"
      },
      "outputs": [
        {
          "output_type": "stream",
          "name": "stdout",
          "text": [
            "Random Forest Accuracy: 64.18%\n",
            "Model and scaler saved as 'model_and_scaler.pkl'\n"
          ]
        }
      ],
      "source": [
        "# Import libraries\n",
        "import pandas as pd\n",
        "from sklearn.model_selection import train_test_split\n",
        "from sklearn.preprocessing import StandardScaler\n",
        "from sklearn.ensemble import RandomForestClassifier\n",
        "from sklearn.metrics import accuracy_score\n",
        "from imblearn.over_sampling import SMOTE\n",
        "import pickle\n",
        "\n",
        "# Load the dataset\n",
        "data = pd.read_csv(\"water_potability.csv\")\n",
        "\n",
        "# Handle missing values\n",
        "data['ph'].fillna(data['ph'].median(), inplace=True)\n",
        "data['Sulfate'].fillna(data['Sulfate'].median(), inplace=True)\n",
        "data['Trihalomethanes'].fillna(data['Trihalomethanes'].median(), inplace=True)\n",
        "\n",
        "# Feature engineering\n",
        "data['Hardness_by_Conductivity'] = data['Hardness'] / (data['Conductivity'] + 1e-5)\n",
        "data['Organic_Carbon_Ratio'] = data['Organic_carbon'] / (data['Solids'] + 1e-5)\n",
        "data['Chloramines_per_Turbidity'] = data['Chloramines'] / (data['Turbidity'] + 1e-5)\n",
        "\n",
        "# Split features and target\n",
        "X = data.drop(columns=[\"Potability\"])\n",
        "y = data[\"Potability\"]\n",
        "\n",
        "# Split into training and testing sets\n",
        "X_train, X_test, y_train, y_test = train_test_split(X, y, test_size=0.2, random_state=42, stratify=y)\n",
        "\n",
        "# Scale the features\n",
        "scaler = StandardScaler()\n",
        "X_train_scaled = scaler.fit_transform(X_train)\n",
        "X_test_scaled = scaler.transform(X_test)\n",
        "\n",
        "# Handle class imbalance with SMOTE\n",
        "smote = SMOTE(random_state=42)\n",
        "X_train_balanced, y_train_balanced = smote.fit_resample(X_train_scaled, y_train)\n",
        "\n",
        "# Train Random Forest\n",
        "random_forest = RandomForestClassifier(random_state=42, n_estimators=100)\n",
        "random_forest.fit(X_train_balanced, y_train_balanced)\n",
        "\n",
        "# Test model performance\n",
        "y_pred_rf = random_forest.predict(X_test_scaled)\n",
        "rf_accuracy = accuracy_score(y_test, y_pred_rf)\n",
        "print(f\"Random Forest Accuracy: {rf_accuracy * 100:.2f}%\")\n",
        "\n",
        "# Save the Random Forest model and scaler in a single .pkl file\n",
        "with open(\"model_and_scaler.pkl\", \"wb\") as file:\n",
        "    pickle.dump({\"model\": random_forest, \"scaler\": scaler}, file)\n",
        "\n",
        "print(\"Model and scaler saved as 'model_and_scaler.pkl'\")\n"
      ]
    }
  ]
}